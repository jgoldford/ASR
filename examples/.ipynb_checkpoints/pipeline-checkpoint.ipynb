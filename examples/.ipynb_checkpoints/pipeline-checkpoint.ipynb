{
 "cells": [
  {
   "cell_type": "code",
   "execution_count": 1,
   "id": "scenic-intelligence",
   "metadata": {},
   "outputs": [],
   "source": [
    "import subprocess\n",
    "import os\n",
    "from asr.lib import fasta2phylip,rst2fasta,PAMLparams"
   ]
  },
  {
   "cell_type": "code",
   "execution_count": null,
   "id": "disciplinary-environment",
   "metadata": {},
   "outputs": [],
   "source": [
    "\n",
    "# the file ID is the prefix used before the .fasta identifier in the file name\n",
    "FileID = 'K00384_1k_rd2';"
   ]
  },
  {
   "cell_type": "code",
   "execution_count": null,
   "id": "analyzed-powder",
   "metadata": {},
   "outputs": [],
   "source": [
    "\n",
    "# the file ID is the prefix used before the .fasta identifier in the file name\n",
    "FileID = 'K00384_renamed_trimmed';\n",
    "\n",
    "# 1. Multiple sequence alignment using MAFFT\n",
    "cmd = 'mafft-linsi %(fid)s.fasta > %(fid)s_MSA.fasta' % {'fid': FileID};\n",
    "subprocess.call(cmd,shell=True);\n",
    "\n",
    "# 2. Convert Fasta to Phylip"
   ]
  },
  {
   "cell_type": "code",
   "execution_count": null,
   "id": "focused-chile",
   "metadata": {},
   "outputs": [],
   "source": [
    "\n",
    "# 2. Convert Fasta to Phylip\n",
    "inFile = '%(fid)s_MSA.fasta' % {'fid': FileID};\n",
    "outFile = '%(fid)s_MSA.phylip' % {'fid': FileID};\n",
    "\n",
    "# only work woth phylip format for sequences\n",
    "seqsFile = outFile;\n",
    "# call helper function\n",
    "fasta2phylip(inFile,outFile);\n",
    "\n",
    "# 3. Call phyml (Alias is not working for some reason)\n",
    "cmd = '/Library/PhyML-3.1/PhyML-3.1_macOS-MountainLion -i %(fid)s -d aa -m JTT -c 4 -a e -b 0' % {'fid': seqsFile};\n",
    "subprocess.call(cmd,shell=True);\n",
    "# move file to TreeName\n",
    "treeFile = FileID+'.tree';\n",
    "cmd = 'mv %(seqs)s_phyml_tree.txt %(tree)s' %  {'seqs': seqsFile,'tree': treeFile};\n",
    "subprocess.call(cmd,shell=True);\n",
    "\n",
    "PAMLoutputFile = FileID+'.mlc';\n",
    "\n",
    "# 4 construct PAML parameters\n",
    "params = PAMLparams(seqsFile,treeFile,PAMLoutputFile);\n",
    "# note that you can simply change values by chainging values of attributes (e.g. params.verbose = 0)\n",
    "text_file = open(\"control_file.ctl\", \"w\")\n",
    "text_file.write(\"%s\" % params.toText())\n",
    "text_file.close()\n",
    "\n",
    "# 5 call PAML\n",
    "cmd = 'codeml control_file.ctl';\n",
    "subprocess.call(cmd,shell=True);\n",
    "\n",
    "# 6 convert PAML outut to Fasta File\n",
    "rst2fasta('rst','ancesteral_sequences.fasta');\n"
   ]
  }
 ],
 "metadata": {
  "kernelspec": {
   "display_name": "Python 3.8 (asr)",
   "language": "python",
   "name": "asr"
  },
  "language_info": {
   "codemirror_mode": {
    "name": "ipython",
    "version": 3
   },
   "file_extension": ".py",
   "mimetype": "text/x-python",
   "name": "python",
   "nbconvert_exporter": "python",
   "pygments_lexer": "ipython3",
   "version": "3.8.5"
  }
 },
 "nbformat": 4,
 "nbformat_minor": 5
}
